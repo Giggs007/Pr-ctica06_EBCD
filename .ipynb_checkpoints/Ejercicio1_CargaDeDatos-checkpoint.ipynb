{
 "cells": [
  {
   "cell_type": "markdown",
   "id": "e7f42f90",
   "metadata": {},
   "source": [
    "\n",
    "# 5. Carga de Datos\n",
    "\n",
    "## Ejercicio 1\n",
    "\n",
    "**Objetivo**: Importación de Datos desde una Base de Datos de SQL (simulado aquí con CSV), limpieza, transformación y exportación a una tabla temporal (simulada).\n",
    "\n",
    "### Pasos:\n",
    "1. Importación de Datos\n",
    "2. Limpieza de Datos\n",
    "3. Transformación de Datos\n",
    "4. Exportar Datos\n"
   ]
  },
  {
   "cell_type": "code",
   "execution_count": null,
   "id": "1fb0c16e",
   "metadata": {},
   "outputs": [],
   "source": [
    "\n",
    "import pandas as pd\n",
    "\n",
    "# Cargar los datos desde el archivo CSV\n",
    "file_path = \"Real_Estate_Sales_2001-2022_GL.csv\"\n",
    "df = pd.read_csv(file_path)\n",
    "\n",
    "# Mostrar una vista previa\n",
    "df.head()\n"
   ]
  },
  {
   "cell_type": "code",
   "execution_count": null,
   "id": "07704a05",
   "metadata": {},
   "outputs": [],
   "source": [
    "\n",
    "# Eliminar columnas irrelevantes o con muchos valores nulos\n",
    "df_clean = df.drop(columns=[\"Non Use Code\", \"Assessor Remarks\", \"OPM remarks\"])\n",
    "\n",
    "# Eliminar filas con valores nulos en columnas importantes\n",
    "df_clean = df_clean.dropna(subset=[\"Sale Amount\", \"Assessed Value\", \"Property Type\"])\n",
    "\n",
    "# Revisar los datos limpios\n",
    "df_clean.head()\n"
   ]
  },
  {
   "cell_type": "code",
   "execution_count": null,
   "id": "4ed45cf0",
   "metadata": {},
   "outputs": [],
   "source": [
    "\n",
    "# Calcular el valor ajustado del inmueble (por ejemplo, valor por cada $1000 del valor catastral)\n",
    "df_clean[\"Adjusted Value\"] = df_clean[\"Assessed Value\"] / 1000\n",
    "\n",
    "# Agregar una columna de año a partir de la fecha\n",
    "df_clean[\"Year\"] = pd.to_datetime(df_clean[\"Date Recorded\"], errors='coerce').dt.year\n",
    "\n",
    "# Revisar los datos transformados\n",
    "df_clean[[\"Assessed Value\", \"Adjusted Value\", \"Year\"]].head()\n"
   ]
  },
  {
   "cell_type": "code",
   "execution_count": null,
   "id": "24c8dffb",
   "metadata": {},
   "outputs": [],
   "source": [
    "\n",
    "# Exportar a CSV como simulación de exportación a tabla temporal en SQL\n",
    "export_path = \"Real_Estate_Cleaned_Export.csv\"\n",
    "df_clean.to_csv(export_path, index=False)\n",
    "print(f\"Datos exportados a: {export_path}\")\n"
   ]
  }
 ],
 "metadata": {},
 "nbformat": 4,
 "nbformat_minor": 5
}

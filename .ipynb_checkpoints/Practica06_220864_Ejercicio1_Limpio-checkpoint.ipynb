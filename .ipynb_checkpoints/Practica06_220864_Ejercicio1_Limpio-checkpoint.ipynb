{
 "cells": [
  {
   "cell_type": "markdown",
   "id": "361035a3",
   "metadata": {},
   "source": [
    "## Ejercicio 1: Importación, limpieza, transformación y exportación de datos desde MySQL"
   ]
  },
  {
   "cell_type": "code",
   "execution_count": null,
   "id": "97069d10",
   "metadata": {},
   "outputs": [],
   "source": [
    "# Paso 1: Importar datos de una base de datos MySQL\n",
    "import mysql.connector\n",
    "import pandas as pd\n",
    "\n",
    "conn = mysql.connector.connect(\n",
    "    host=\"localhost\",\n",
    "    user=\"root\",\n",
    "    password=\"\",  # Ajusta si tienes contraseña\n",
    "    database=\"bd_healthcare\",\n",
    "    port=3308  # Cambia si usas otro puerto\n",
    ")\n",
    "\n",
    "query = \"SELECT * FROM pacientes;\"  # Cambia por la tabla que te interese\n",
    "df = pd.read_sql(query, conn)\n",
    "df.head()"
   ]
  },
  {
   "cell_type": "code",
   "execution_count": null,
   "id": "f082eaa0",
   "metadata": {},
   "outputs": [],
   "source": [
    "# Paso 2: Limpiar los datos\n",
    "# Eliminar duplicados\n",
    "df = df.drop_duplicates()\n",
    "\n",
    "# Eliminar filas con valores nulos\n",
    "df = df.dropna()\n",
    "\n",
    "df.info()"
   ]
  },
  {
   "cell_type": "code",
   "execution_count": null,
   "id": "ccd17c1b",
   "metadata": {},
   "outputs": [],
   "source": [
    "# Paso 3: Transformar los datos\n",
    "# Ejemplo: crear una nueva columna de edad en años si hay fecha de nacimiento\n",
    "import datetime\n",
    "\n",
    "if 'fecha_nacimiento' in df.columns:\n",
    "    df['edad'] = df['fecha_nacimiento'].apply(lambda x: datetime.datetime.now().year - x.year)\n",
    "\n",
    "df.head()"
   ]
  },
  {
   "cell_type": "code",
   "execution_count": null,
   "id": "e06290ae",
   "metadata": {},
   "outputs": [],
   "source": [
    "# Paso 4: Exportar los datos a una tabla temporal en MySQL\n",
    "from sqlalchemy import create_engine\n",
    "\n",
    "# Crear conexión con SQLAlchemy para usar to_sql\n",
    "engine = create_engine(\"mysql+mysqlconnector://root:@localhost:3308/bd_healthcare\")\n",
    "df.to_sql(name='pacientes_temp', con=engine, if_exists='replace', index=False)\n",
    "print(\"Datos exportados a la tabla temporal 'pacientes_temp'.\")"
   ]
  }
 ],
 "metadata": {},
 "nbformat": 4,
 "nbformat_minor": 5
}

{
 "cells": [
  {
   "cell_type": "markdown",
   "id": "c81871b2",
   "metadata": {},
   "source": [
    "## Ejercicio 1: Importación, limpieza, transformación y exportación de datos desde MySQL (BD Normalizada)"
   ]
  },
  {
   "cell_type": "code",
   "execution_count": null,
   "id": "d950037f",
   "metadata": {},
   "outputs": [],
   "source": [
    "# Paso 1: Importar datos de una base de datos MySQL (base normalizada)\n",
    "import mysql.connector\n",
    "import pandas as pd\n",
    "\n",
    "conn = mysql.connector.connect(\n",
    "    host=\"localhost\",\n",
    "    user=\"root\",\n",
    "    password=\"\",  # Ajusta si tienes contraseña\n",
    "    database=\"bd_healthcare_normalized\",  # Usa el nombre real después de importar el .sql\n",
    "    port=3308\n",
    ")\n",
    "\n",
    "query = \"SELECT * FROM pacientes;\"  # Cambia esta tabla si es necesario\n",
    "df = pd.read_sql(query, conn)\n",
    "df.head()"
   ]
  },
  {
   "cell_type": "code",
   "execution_count": null,
   "id": "a93f5399",
   "metadata": {},
   "outputs": [],
   "source": [
    "# Paso 2: Limpiar los datos\n",
    "# Eliminar duplicados\n",
    "df = df.drop_duplicates()\n",
    "\n",
    "# Eliminar filas con valores nulos\n",
    "df = df.dropna()\n",
    "\n",
    "df.info()"
   ]
  },
  {
   "cell_type": "code",
   "execution_count": null,
   "id": "83411576",
   "metadata": {},
   "outputs": [],
   "source": [
    "# Paso 3: Transformar los datos\n",
    "# Ejemplo: crear una columna de edad si existe 'fecha_nacimiento'\n",
    "import datetime\n",
    "\n",
    "if 'fecha_nacimiento' in df.columns:\n",
    "    df['edad'] = df['fecha_nacimiento'].apply(lambda x: datetime.datetime.now().year - x.year)\n",
    "\n",
    "df.head()"
   ]
  },
  {
   "cell_type": "code",
   "execution_count": null,
   "id": "e340ca84",
   "metadata": {},
   "outputs": [],
   "source": [
    "# Paso 4: Exportar los datos transformados a una tabla temporal en MySQL\n",
    "from sqlalchemy import create_engine\n",
    "\n",
    "engine = create_engine(\"mysql+mysqlconnector://root:@localhost:3308/bd_healthcare_normalized\")\n",
    "df.to_sql(name='pacientes_temp', con=engine, if_exists='replace', index=False)\n",
    "print(\"Datos exportados a la tabla temporal 'pacientes_temp'.\")"
   ]
  }
 ],
 "metadata": {},
 "nbformat": 4,
 "nbformat_minor": 5
}

{
 "cells": [
  {
   "cell_type": "markdown",
   "id": "9cdc97e7",
   "metadata": {},
   "source": [
    "## Ejercicio 1: Importación, limpieza, transformación y exportación de datos (base normalizada)"
   ]
  },
  {
   "cell_type": "code",
   "execution_count": null,
   "id": "e745766e",
   "metadata": {},
   "outputs": [],
   "source": [
    "# Paso 1: Conectar y consultar la tabla 'patients'\n",
    "import mysql.connector\n",
    "import pandas as pd\n",
    "\n",
    "conn = mysql.connector.connect(\n",
    "    host=\"localhost\",\n",
    "    user=\"root\",\n",
    "    password=\"\",  # Cambiar si tu contraseña no está vacía\n",
    "    database=\"bd_healthcare\",\n",
    "    port=3308\n",
    ")\n",
    "\n",
    "query = \"SELECT * FROM patients;\"\n",
    "df = pd.read_sql(query, conn)\n",
    "df.head()"
   ]
  },
  {
   "cell_type": "code",
   "execution_count": null,
   "id": "65f7eb99",
   "metadata": {},
   "outputs": [],
   "source": [
    "# Paso 2: Limpieza de datos\n",
    "# Verificamos duplicados y valores nulos\n",
    "print(\"Duplicados:\", df.duplicated().sum())\n",
    "print(\"Valores nulos por columna:\\n\", df.isnull().sum())\n",
    "\n",
    "# Eliminamos duplicados\n",
    "df = df.drop_duplicates()\n",
    "\n",
    "# Eliminamos filas con datos faltantes\n",
    "df = df.dropna()\n",
    "\n",
    "df.info()"
   ]
  },
  {
   "cell_type": "code",
   "execution_count": null,
   "id": "d4d9f46b",
   "metadata": {},
   "outputs": [],
   "source": [
    "# Paso 3: Transformación de datos\n",
    "# Clasificar por rangos de edad en una nueva columna 'categoria_edad'\n",
    "\n",
    "def clasificar_edad(edad):\n",
    "    if edad < 18:\n",
    "        return 'Menor de edad'\n",
    "    elif edad <= 60:\n",
    "        return 'Adulto'\n",
    "    else:\n",
    "        return 'Adulto mayor'\n",
    "\n",
    "df['categoria_edad'] = df['age'].apply(clasificar_edad)\n",
    "df[['age', 'categoria_edad']].head()"
   ]
  },
  {
   "cell_type": "code",
   "execution_count": null,
   "id": "f30098a7",
   "metadata": {},
   "outputs": [],
   "source": [
    "# Paso 4: Exportar a una tabla temporal 'patients_temp'\n",
    "from sqlalchemy import create_engine\n",
    "\n",
    "engine = create_engine(\"mysql+mysqlconnector://root:@localhost:3308/bd_healthcare\")\n",
    "df.to_sql(name='patients_temp', con=engine, if_exists='replace', index=False)\n",
    "print(\"Datos exportados correctamente a 'patients_temp'.\")"
   ]
  }
 ],
 "metadata": {},
 "nbformat": 4,
 "nbformat_minor": 5
}

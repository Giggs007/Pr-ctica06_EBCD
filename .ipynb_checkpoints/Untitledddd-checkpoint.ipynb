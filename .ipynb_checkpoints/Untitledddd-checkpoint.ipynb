{
 "cells": [
  {
   "cell_type": "markdown",
   "id": "0f0c19e0-96b4-4794-8c2c-ffcd67a11b1e",
   "metadata": {},
   "source": [
    "# Práctica 06 - Ejercicio 1\n",
    "\n",
    "Este notebook contiene la carga, limpieza, transformación y exportación de datos a MySQL usando un archivo CSV.\n"
   ]
  },
  {
   "cell_type": "code",
   "execution_count": null,
   "id": "fb70de58-ad8e-4984-8b41-66d611206759",
   "metadata": {},
   "outputs": [],
   "source": [
    "import pandas as pd\n",
    "from sqlalchemy import create_engine\n"
   ]
  },
  {
   "cell_type": "markdown",
   "id": "1ce0e8fe-ccff-4bcd-96ba-18e5dc8d4030",
   "metadata": {},
   "source": [
    "## 1. Importación de Datos\n"
   ]
  },
  {
   "cell_type": "code",
   "execution_count": 2,
   "id": "31bee170-e080-40e9-9778-be5fb89591b0",
   "metadata": {},
   "outputs": [
    {
     "ename": "NameError",
     "evalue": "name 'pd' is not defined",
     "output_type": "error",
     "traceback": [
      "\u001b[1;31m---------------------------------------------------------------------------\u001b[0m",
      "\u001b[1;31mNameError\u001b[0m                                 Traceback (most recent call last)",
      "Cell \u001b[1;32mIn[2], line 1\u001b[0m\n\u001b[1;32m----> 1\u001b[0m df \u001b[38;5;241m=\u001b[39m \u001b[43mpd\u001b[49m\u001b[38;5;241m.\u001b[39mread_csv(\u001b[38;5;124m\"\u001b[39m\u001b[38;5;124mReal_Estate_Sales_2001-2022_GL.csv\u001b[39m\u001b[38;5;124m\"\u001b[39m)\n\u001b[0;32m      2\u001b[0m df\u001b[38;5;241m.\u001b[39mhead()\n",
      "\u001b[1;31mNameError\u001b[0m: name 'pd' is not defined"
     ]
    }
   ],
   "source": [
    "df = pd.read_csv(\"Real_Estate_Sales_2001-2022_GL.csv\")\n",
    "df.head()\n"
   ]
  },
  {
   "cell_type": "code",
   "execution_count": null,
   "id": "5208b31f-62bf-4ec2-9e0f-694710e6a881",
   "metadata": {},
   "outputs": [],
   "source": [
    "## 2. Limpieza de Datos\n"
   ]
  },
  {
   "cell_type": "code",
   "execution_count": null,
   "id": "288507d6-c0e6-42e6-b181-a9581fe997d9",
   "metadata": {},
   "outputs": [],
   "source": [
    "df.info()\n",
    "df = df.dropna(axis=1, how='all')\n",
    "df = df.dropna()\n",
    "df.columns = [col.strip().replace(\" \", \"_\").lower() for col in df.columns]\n",
    "df.head()\n"
   ]
  },
  {
   "cell_type": "code",
   "execution_count": null,
   "id": "2a96b6e1-fadc-40d6-aa46-d5e54072529d",
   "metadata": {},
   "outputs": [],
   "source": [
    "## 3. Transformación de Datos\n"
   ]
  },
  {
   "cell_type": "code",
   "execution_count": null,
   "id": "ae60dc36-8a72-462c-9971-2960c533cdb6",
   "metadata": {},
   "outputs": [],
   "source": [
    "if 'sale_date' in df.columns:\n",
    "    df['sale_date'] = pd.to_datetime(df['sale_date'], errors='coerce')\n",
    "if 'sale_date' in df.columns:\n",
    "    df['sale_year'] = df['sale_date'].dt.year\n",
    "df.head()\n"
   ]
  },
  {
   "cell_type": "code",
   "execution_count": null,
   "id": "2a8a818f-2107-4e72-9981-4d233a2ab8d8",
   "metadata": {},
   "outputs": [],
   "source": [
    "## 4. Exportar Datos a una Tabla Temporal de SQL (MySQL)\n"
   ]
  },
  {
   "cell_type": "code",
   "execution_count": null,
   "id": "75bde457-f5f0-4fa1-834e-f0c66c95d437",
   "metadata": {},
   "outputs": [],
   "source": [
    "user = 'tu_usuario'\n",
    "password = 'tu_contraseña'\n",
    "host = 'localhost'\n",
    "database = 'nombre_base_datos'\n",
    "\n",
    "engine = create_engine(f\"mysql+pymysql://{user}:{password}@{host}/{database}\")\n",
    "df.to_sql(name='tabla_temporal_ventas', con=engine, if_exists='replace', index=False)\n",
    "\n",
    "print(\"Exportación exitosa.\")\n"
   ]
  }
 ],
 "metadata": {
  "kernelspec": {
   "display_name": "Python 3 (ipykernel)",
   "language": "python",
   "name": "python3"
  },
  "language_info": {
   "codemirror_mode": {
    "name": "ipython",
    "version": 3
   },
   "file_extension": ".py",
   "mimetype": "text/x-python",
   "name": "python",
   "nbconvert_exporter": "python",
   "pygments_lexer": "ipython3",
   "version": "3.12.7"
  }
 },
 "nbformat": 4,
 "nbformat_minor": 5
}
